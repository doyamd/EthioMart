{
 "cells": [
  {
   "cell_type": "code",
   "execution_count": null,
   "id": "45adf268",
   "metadata": {},
   "outputs": [],
   "source": [
    "import re\n",
    "\n",
    "# Sample message (replace this with your actual message text)\n",
    "text = \"\"\"\n",
    "📌 Imitation Volcano Humidifier with LED Light\n",
    "ዋጋ፦ 💲🏷 1400 ብር\n",
    "\"\"\"\n",
    "\n",
    "# Simple NER tagging logic\n",
    "def tag_text(text):\n",
    "    lines = text.split('\\n')\n",
    "    tagged_tokens = []\n",
    "\n",
    "    for line in lines:\n",
    "        if \"ዋጋ\" in line or \"💲\" in line:\n",
    "            price_match = re.findall(r\"\\d+(?:,\\d+)?\", line)\n",
    "            if price_match:\n",
    "                for i, token in enumerate(line.split()):\n",
    "                    if token.strip().isdigit() or any(c.isdigit() for c in token):\n",
    "                        tagged_tokens.append((token, 'B-PRICE' if i == 0 else 'I-PRICE'))\n",
    "                    else:\n",
    "                        tagged_tokens.append((token, 'O'))\n",
    "        elif \"📌\" in line:\n",
    "            tokens = line.replace(\"📌\", \"\").split()\n",
    "            for i, token in enumerate(tokens):\n",
    "                tag = \"B-PRODUCT\" if i == 0 else \"I-PRODUCT\"\n",
    "                tagged_tokens.append((token, tag))\n",
    "        else:\n",
    "            for token in line.split():\n",
    "                tagged_tokens.append((token, 'O'))\n",
    "\n",
    "    return tagged_tokens\n",
    "\n",
    "# Apply the function and print in CoNLL format\n",
    "tagged = tag_text(text)\n",
    "\n",
    "for word, tag in tagged:\n",
    "    print(f\"{word}\\t{tag}\")"
   ]
  }
 ],
 "metadata": {
  "language_info": {
   "name": "python"
  }
 },
 "nbformat": 4,
 "nbformat_minor": 5
}
