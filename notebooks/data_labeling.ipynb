{
 "cells": [
  {
   "cell_type": "code",
   "execution_count": null,
   "id": "a6ee0995",
   "metadata": {},
   "outputs": [],
   "source": [
    "import pandas as pd\n",
    "from datasets import Dataset, ClassLabel, Sequence\n",
    "from transformers import AutoTokenizer"
   ]
  },
  {
   "cell_type": "code",
   "execution_count": null,
   "id": "3e509fe9",
   "metadata": {},
   "outputs": [],
   "source": [
    "df = pd.read_csv(\"../data/processed/telegram_messages_20250621_052911.csv\")"
   ]
  },
  {
   "cell_type": "code",
   "execution_count": null,
   "id": "1ef1c0fa",
   "metadata": {},
   "outputs": [],
   "source": [
    "sample_df = df.sample(50, random_state=42)"
   ]
  },
  {
   "cell_type": "code",
   "execution_count": null,
   "id": "4db93b5e",
   "metadata": {},
   "outputs": [],
   "source": [
    "def save_conll(data, filepath):\n",
    "    with open(filepath, \"w\", encoding=\"utf-8\") as f:\n",
    "        for item in data:\n",
    "            for token, label in zip(item[\"tokens\"], item[\"labels\"]):\n",
    "                f.write(f\"{token}\\t{label}\\n\")\n",
    "            f.write(\"\\n\")\n"
   ]
  },
  {
   "cell_type": "code",
   "execution_count": null,
   "id": "58713131",
   "metadata": {},
   "outputs": [],
   "source": [
    "labeled_data = [\n",
    "    {\n",
    "        \"tokens\": [\"ለልጆች\", \"ጫማ\", \"በ\", \"350\", \"ብር\"],\n",
    "        \"labels\": [\"B-PRODUCT\", \"I-PRODUCT\", \"O\", \"B-PRICE\", \"I-PRICE\"]\n",
    "    },\n",
    "    # ... more examples\n",
    "]\n",
    "\n",
    "save_conll(labeled_data, \"data/labeled/amharic_ner.conll\")"
   ]
  }
 ],
 "metadata": {
  "language_info": {
   "name": "python"
  }
 },
 "nbformat": 4,
 "nbformat_minor": 5
}
