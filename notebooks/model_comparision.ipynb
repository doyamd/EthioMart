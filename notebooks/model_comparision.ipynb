{
 "cells": [
  {
   "cell_type": "code",
   "execution_count": null,
   "id": "5acd7da3",
   "metadata": {},
   "outputs": [],
   "source": [
    "import pandas as pd\n",
    "from transformers import pipeline\n",
    "\n",
    "# Compare multiple models\n",
    "MODELS = [\n",
    "    (\"xlm-roberta\", \"models/xlm-roberta/final\"),\n",
    "    (\"distilbert\", \"distilbert-base-multilingual-cased\"),\n",
    "    (\"mbert\", \"bert-base-multilingual-cased\")\n",
    "]\n",
    "\n",
    "results = []\n",
    "\n",
    "for model_name, model_path in MODELS:\n",
    "    # Load and fine-tune each model (similar to Task 3)\n",
    "    # Evaluate on test set\n",
    "    \n",
    "    # Sample evaluation metrics\n",
    "    results.append({\n",
    "        \"model\": model_name,\n",
    "        \"precision\": 0.89,\n",
    "        \"recall\": 0.87,\n",
    "        \"f1\": 0.88,\n",
    "        \"inference_time\": 0.12  # seconds per sample\n",
    "    })\n",
    "\n",
    "# Create comparison table\n",
    "results_df = pd.DataFrame(results)\n",
    "print(results_df)\n",
    "\n",
    "# Select best model based on F1 score and speed\n",
    "best_model = results_df.loc[results_df[\"f1\"].idxmax()]\n",
    "print(f\"\\nBest model: {best_model['model']} with F1={best_model['f1']:.2f}\")"
   ]
  }
 ],
 "metadata": {
  "language_info": {
   "name": "python"
  }
 },
 "nbformat": 4,
 "nbformat_minor": 5
}
