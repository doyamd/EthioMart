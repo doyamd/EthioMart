{
 "cells": [
  {
   "cell_type": "code",
   "execution_count": null,
   "id": "a9367bed",
   "metadata": {},
   "outputs": [],
   "source": [
    "import pandas as pd\n",
    "from datetime import datetime, timedelta\n",
    "\n",
    "def calculate_vendor_metrics(df):\n",
    "    # Calculate metrics per vendor\n",
    "    metrics = df.groupby(\"channel\").agg({\n",
    "        \"message_id\": \"count\",\n",
    "        \"views\": \"mean\",\n",
    "        \"date\": lambda x: (x.max() - x.min()).days\n",
    "    }).rename(columns={\n",
    "        \"message_id\": \"total_posts\",\n",
    "        \"views\": \"avg_views\",\n",
    "        \"date\": \"days_active\"\n",
    "    })\n",
    "    \n",
    "    # Posting frequency (posts per week)\n",
    "    metrics[\"posts_per_week\"] = metrics[\"total_posts\"] / (metrics[\"days_active\"] / 7)\n",
    "    \n",
    "    # Average price (from NER)\n",
    "    # This would come from your NER model's price extraction\n",
    "    # For demo, we'll assume we have this data\n",
    "    metrics[\"avg_price\"] = df.groupby(\"channel\")[\"extracted_price\"].mean()\n",
    "    \n",
    "    # Lending score\n",
    "    metrics[\"lending_score\"] = (\n",
    "        0.5 * metrics[\"avg_views\"] / metrics[\"avg_views\"].max() +\n",
    "        0.3 * metrics[\"posts_per_week\"] / metrics[\"posts_per_week\"].max() +\n",
    "        0.2 * (1 - metrics[\"avg_price\"] / metrics[\"avg_price\"].max()))    \n",
    "    return metrics.sort_values(\"lending_score\", ascending=False)\n",
    "\n",
    "# Load processed data with NER results\n",
    "df = pd.read_csv(\"data/processed/with_ner_results.csv\")\n",
    "df[\"date\"] = pd.to_datetime(df[\"date\"])\n",
    "\n",
    "# Calculate metrics\n",
    "vendor_metrics = calculate_vendor_metrics(df)\n",
    "print(vendor_metrics[[\"avg_views\", \"posts_per_week\", \"avg_price\", \"lending_score\"]])"
   ]
  }
 ],
 "metadata": {
  "language_info": {
   "name": "python"
  }
 },
 "nbformat": 4,
 "nbformat_minor": 5
}
